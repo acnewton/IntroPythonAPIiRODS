{
 "cells": [
  {
   "cell_type": "markdown",
   "metadata": {},
   "source": [
    "# Python API for iRODS\n",
    "\n",
    "**Authors**\n",
    "- Arthur Newton (SURFsara)\n",
    "- Christine Staiger (SURFsara)\n",
    "\n",
    "**License**\n",
    "Copyright 2018 SURFsara BV\n",
    "\n",
    "Licensed under the Apache License, Version 2.0 (the \"License\"); you may not use this file except in compliance with the License. You may obtain a copy of the License at\n",
    "\n",
    "http://www.apache.org/licenses/LICENSE-2.0\n",
    "\n",
    "Unless required by applicable law or agreed to in writing, software distributed under the License is distributed on an \"AS IS\" BASIS, WITHOUT WARRANTIES OR CONDITIONS OF ANY KIND, either express or implied. See the License for the specific language governing permissions and limitations under the License.\n",
    "\n"
   ]
  },
  {
   "cell_type": "markdown",
   "metadata": {},
   "source": [
    "## Goal\n",
    "You will learn how to interact with iRODS via the python API. In this module we will explore the API in interactive mode. You will:\n",
    "\n",
    "- Up and download data\n",
    "- Up and download data collections\n",
    "- Add and edit metadata\n",
    "- Set Accession control lists for data objects and collections\n",
    "- Query for data based on metadata of data objects and collections"
   ]
  },
  {
   "cell_type": "markdown",
   "metadata": {},
   "source": [
    "## Connect to iRODS\n",
    "To connect to iRODS we will need to authenticate via a username and password. Passing sensitive information over internet can be insecure. Therefore, it is best practice to do this by encoding the password first.\n",
    "The module `getpass ` asks for passwords without printing the input on screen. With  encoding function we prevent that the variable contains the plain password.\n"
   ]
  },
  {
   "cell_type": "code",
   "execution_count": null,
   "metadata": {
    "scrolled": true
   },
   "outputs": [],
   "source": [
    "import getpass\n",
    "pw = getpass.getpass().encode('utf-16')"
   ]
  },
  {
   "cell_type": "markdown",
   "metadata": {},
   "source": [
    "Now we can create an iRODS session. The iRODS instance you will be connecting to is hosted at SURFsara HPC Cloud. For connecting to iRODS you will need the following information:"
   ]
  },
  {
   "cell_type": "code",
   "execution_count": null,
   "metadata": {},
   "outputs": [],
   "source": [
    "hostname='insert_hostname'\n",
    "port=1247\n",
    "username='insert_username'\n",
    "zonename='insert_zonename'"
   ]
  },
  {
   "cell_type": "markdown",
   "metadata": {},
   "source": [
    "with this information we can create a session object:"
   ]
  },
  {
   "cell_type": "code",
   "execution_count": null,
   "metadata": {},
   "outputs": [],
   "source": [
    "from irods.session import iRODSSession\n",
    "session = iRODSSession(host=hostname, port=port, user=username, password=pw.decode('utf-16'), zone=zonename)"
   ]
  },
  {
   "cell_type": "markdown",
   "metadata": {},
   "source": [
    "and test whether we have access:"
   ]
  },
  {
   "cell_type": "code",
   "execution_count": null,
   "metadata": {
    "scrolled": true
   },
   "outputs": [],
   "source": [
    "coll = session.collections.get('/aliceZone/home/irods-user1')\n",
    "print(coll.data_objects)\n",
    "print(coll.subcollections)"
   ]
  },
  {
   "cell_type": "markdown",
   "metadata": {},
   "source": [
    "So far no data is stored in your iRODS collection. Let's upload some data.\n",
    "\n",
    "We will need our home collection more often as reference point, so let us store the collection path:\n"
   ]
  },
  {
   "cell_type": "code",
   "execution_count": null,
   "metadata": {},
   "outputs": [],
   "source": [
    "iHome = coll.path"
   ]
  },
  {
   "cell_type": "markdown",
   "metadata": {},
   "source": [
    "## Upload a data object\n",
    "The preferred way to upload data to iRODS is via `session.data_objects.put`.\n",
    "\n",
    "Now we create the logical path and upload the Italian version of Alice in wonderland to iRODS:"
   ]
  },
  {
   "cell_type": "code",
   "execution_count": null,
   "metadata": {},
   "outputs": [],
   "source": [
    "iPath = iHome+'/Alice-IT.txt' #iRODS path\n",
    "session.data_objects.put('AliceInWonderland-IT.txt', iPath) #local path"
   ]
  },
  {
   "cell_type": "markdown",
   "metadata": {},
   "source": [
    "We can retrieve the new object via `get`. The object, `obj`, carries some vital system information. If the upload does not succeed, the object is empty."
   ]
  },
  {
   "cell_type": "code",
   "execution_count": null,
   "metadata": {
    "scrolled": true
   },
   "outputs": [],
   "source": [
    "obj = session.data_objects.get(iPath)\n",
    "print(\"Name: \", obj.name)\n",
    "print(\"Owner: \", obj.owner_name)\n",
    "print(\"Size: \", obj.size)\n",
    "print(\"Checksum:\", obj.checksum)\n",
    "print(\"Create: \", obj.create_time)\n",
    "print(\"Modify: \", obj.modify_time)\n",
    "print(\"Metadata: \", obj.metadata.items())"
   ]
  },
  {
   "cell_type": "markdown",
   "metadata": {},
   "source": [
    "Less code to write to display the full object:"
   ]
  },
  {
   "cell_type": "code",
   "execution_count": null,
   "metadata": {},
   "outputs": [],
   "source": [
    "vars(obj)"
   ]
  },
  {
   "cell_type": "markdown",
   "metadata": {},
   "source": [
    "**Remark**: iRODS stores times in UNIX [epoch](https://en.wikipedia.org/wiki/Unix_time) time, but the python client always returns times in UTC (2 hours behind our local time).\n",
    "\n",
    "**Exercise** Try to put data to an undefined path or your neighbours home collection (spelling mistake ...).\n",
    "\n"
   ]
  },
  {
   "cell_type": "code",
   "execution_count": null,
   "metadata": {},
   "outputs": [],
   "source": []
  },
  {
   "cell_type": "markdown",
   "metadata": {},
   "source": [
    "You can also rename an iRODS data object or move it to a different collection:"
   ]
  },
  {
   "cell_type": "code",
   "execution_count": null,
   "metadata": {},
   "outputs": [],
   "source": [
    "session.data_objects.move(obj.path, iHome + '/Alice.txt')\n",
    "print(coll.data_objects)"
   ]
  },
  {
   "cell_type": "markdown",
   "metadata": {},
   "source": [
    "**Exercise** What happens if you try to move a data object to an existing data object?\n"
   ]
  },
  {
   "cell_type": "code",
   "execution_count": null,
   "metadata": {},
   "outputs": [],
   "source": []
  },
  {
   "cell_type": "markdown",
   "metadata": {},
   "source": [
    "\n",
    "## Metadata handling\n",
    "Working with metadata in the iRODS python API, is not completely intuitive. You need a good understanding of python dictionaries and the iRODS python API classes `dataobject`, `collection`, `iRODSMetaData` and `iRODSMetaCollection`.\n",
    "\n",
    "We start slowly with first creating some metadata for our data. \n",
    "Currently, our data object does not carry any user-defined metadata:"
   ]
  },
  {
   "cell_type": "code",
   "execution_count": null,
   "metadata": {},
   "outputs": [],
   "source": [
    "iPath = iHome + '/Alice.txt'\n",
    "obj = session.data_objects.get(iPath)\n",
    "print(obj.metadata.items())"
   ]
  },
  {
   "cell_type": "markdown",
   "metadata": {},
   "source": [
    "Create a key, value, unit entry for our data object:"
   ]
  },
  {
   "cell_type": "code",
   "execution_count": null,
   "metadata": {},
   "outputs": [],
   "source": [
    "obj.metadata.add('SOURCE', 'python API training', 'version 1')\n",
    "obj.metadata.add('TYPE', 'test file')"
   ]
  },
  {
   "cell_type": "markdown",
   "metadata": {},
   "source": [
    "If you now print the metadata again, you will see a cryptic list:"
   ]
  },
  {
   "cell_type": "code",
   "execution_count": null,
   "metadata": {},
   "outputs": [],
   "source": [
    "print(obj.metadata.items())"
   ]
  },
  {
   "cell_type": "markdown",
   "metadata": {},
   "source": [
    "The list contains two metadata python objects.\n",
    "To work with the metadata you need to iterate over them and extract the AVU triples:"
   ]
  },
  {
   "cell_type": "code",
   "execution_count": null,
   "metadata": {},
   "outputs": [],
   "source": [
    "[(item.name, item.value, item.units) for item in obj.metadata.items()]"
   ]
  },
  {
   "cell_type": "markdown",
   "metadata": {},
   "source": [
    "Metadata can be used to search for your own data but also for data that someone shared with you. You do not need to know the exact iRODS logical path to retrieve the file, you can search for data wich is annotated accordingly. We will see that in the next section.\n",
    "\n",
    "**Watch out:** If you do another `data_object.put` you will overwrite not only the bitstream but also all metadata. User-defined metadata will be set to empty.\n"
   ]
  },
  {
   "cell_type": "markdown",
   "metadata": {},
   "source": [
    "## Download a data object\n",
    "Files can also be downloaded. The download option is in `get`, although a bit hidden... If a `file` option is given, the file is not only cached in memory, but saved locally:"
   ]
  },
  {
   "cell_type": "code",
   "execution_count": null,
   "metadata": {},
   "outputs": [],
   "source": [
    "dobj=session.data_objects.get(obj.path,file='insert_localpath')"
   ]
  },
  {
   "cell_type": "markdown",
   "metadata": {},
   "source": [
    "You can also choose to stream the file in first. This can be convenient if you want to process the file in chunks. However, this is a bit more work:"
   ]
  },
  {
   "cell_type": "code",
   "execution_count": null,
   "metadata": {},
   "outputs": [],
   "source": [
    "import os\n",
    "buff = session.data_objects.open(obj.path, 'r').read()\n",
    "print()\"Downloading to:\", os.environ['HOME']+'/'+os.path.basename(obj.path))\n",
    "with open(os.environ['HOME']+'/'+os.path.basename(obj.path), 'wb') as f:\n",
    "    f.write(buff) "
   ]
  },
  {
   "cell_type": "markdown",
   "metadata": {},
   "source": [
    "**Exercise** Calculate the MD5 checksum for the downloaded data and compare with the data object's checksum in iRODS. (hint: `import hashlib; hashlib.md5(open(<filename>, 'rb').read()).hexdigest()`"
   ]
  },
  {
   "cell_type": "code",
   "execution_count": null,
   "metadata": {},
   "outputs": [],
   "source": []
  },
  {
   "cell_type": "markdown",
   "metadata": {},
   "source": [
    "## Streaming data\n",
    "Streaming data is an alternative to upload large data to iRODS or to accumulate data in a data object over time.  First you need to create an empty data object in iRODS before you can stream in the data."
   ]
  },
  {
   "cell_type": "code",
   "execution_count": null,
   "metadata": {},
   "outputs": [],
   "source": [
    "content = 'My contents!'\n",
    "obj = session.data_objects.create(iHome + '/stream.txt')"
   ]
  },
  {
   "cell_type": "markdown",
   "metadata": {},
   "source": [
    "This will create a place holder for the data object with no further metadata:"
   ]
  },
  {
   "cell_type": "code",
   "execution_count": null,
   "metadata": {},
   "outputs": [],
   "source": [
    "print(\"Name: \", obj.name)\n",
    "print(\"Owner: \", obj.owner_name)\n",
    "print(\"Size: \", obj.size)\n",
    "print(\"Checksum:\", obj.checksum)\n",
    "print(\"Create: \", obj.create_time)\n",
    "print(\"Modify: \", obj.modify_time)\n",
    "print(\"Metadata: \", obj.metadata.items())"
   ]
  },
  {
   "cell_type": "code",
   "execution_count": null,
   "metadata": {},
   "outputs": [],
   "source": [
    "vars(obj)"
   ]
  },
  {
   "cell_type": "markdown",
   "metadata": {},
   "source": [
    "We can now stream in our data into that placeholder"
   ]
  },
  {
   "cell_type": "code",
   "execution_count": null,
   "metadata": {},
   "outputs": [],
   "source": [
    "with obj.open('w') as obj_desc:\n",
    "    obj_desc.write(content)\n",
    "obj = session.data_objects.get(iHome + '/stream.txt')"
   ]
  },
  {
   "cell_type": "markdown",
   "metadata": {},
   "source": [
    "Now we check the metadata again:"
   ]
  },
  {
   "cell_type": "code",
   "execution_count": null,
   "metadata": {},
   "outputs": [],
   "source": [
    "print(\"Name: \", obj.name)\n",
    "print(\"Owner: \", obj.owner_name)\n",
    "print(\"Size: \", obj.size)\n",
    "print(\"Checksum:\", obj.checksum)\n",
    "print(\"Create: \", obj.create_time)\n",
    "print(\"Modify: \", obj.modify_time)\n",
    "print(\"Metadata: \", obj.metadata.items())"
   ]
  },
  {
   "cell_type": "code",
   "execution_count": null,
   "metadata": {},
   "outputs": [],
   "source": [
    "vars(obj)"
   ]
  },
  {
   "cell_type": "markdown",
   "metadata": {},
   "source": [
    "## Create a collection\n",
    "Similarly to a UNIX file system, you can organise your data in iRODS in collections, the iRODS name for directories. First we are going to create a collection. Note that you can create collections recursively:\n"
   ]
  },
  {
   "cell_type": "code",
   "execution_count": null,
   "metadata": {},
   "outputs": [],
   "source": [
    "session.collections.create(iHome + '/Books/Alice')"
   ]
  },
  {
   "cell_type": "markdown",
   "metadata": {},
   "source": [
    "And test:"
   ]
  },
  {
   "cell_type": "code",
   "execution_count": null,
   "metadata": {},
   "outputs": [],
   "source": [
    "coll.path\n",
    "coll.subcollections"
   ]
  },
  {
   "cell_type": "markdown",
   "metadata": {},
   "source": [
    "## Move files into collection"
   ]
  },
  {
   "cell_type": "markdown",
   "metadata": {},
   "source": [
    "Now we can move the Alice in Wonderland text in that collection."
   ]
  },
  {
   "cell_type": "code",
   "execution_count": null,
   "metadata": {},
   "outputs": [],
   "source": [
    "coll = session.collections.get(iHome + '/Books/Alice')\n",
    "coll.data_objects\n",
    "session.data_objects.move(iHome + '/Alice.txt', coll.path)\n",
    "coll.data_objects"
   ]
  },
  {
   "cell_type": "markdown",
   "metadata": {},
   "source": [
    "## Move a collections into collections\n",
    "Just as data objects you can also move and rename collections with all their data objects and subcollections:"
   ]
  },
  {
   "cell_type": "code",
   "execution_count": null,
   "metadata": {},
   "outputs": [],
   "source": [
    "session.collections.move(iHome + '/Books', iHome + '/MyBooks')\n",
    "coll = session.collections.get(iHome)\n",
    "coll.subcollections"
   ]
  },
  {
   "cell_type": "code",
   "execution_count": null,
   "metadata": {},
   "outputs": [],
   "source": [
    "[vars(c) for c in coll.subcollections]"
   ]
  },
  {
   "cell_type": "markdown",
   "metadata": {},
   "source": [
    "## Remove a Collection\n",
    "Remove a collection recursively with all data objects."
   ]
  },
  {
   "cell_type": "code",
   "execution_count": null,
   "metadata": {},
   "outputs": [],
   "source": [
    "coll = session.collections.get(iHome + '/MyBooks')\n",
    "coll.remove(recurse=True)"
   ]
  },
  {
   "cell_type": "markdown",
   "metadata": {},
   "source": [
    "Do not be fooled, the python object 'coll' looks like as if the collection is still in iRODS. You need to refetch the collection (refresh)."
   ]
  },
  {
   "cell_type": "code",
   "execution_count": null,
   "metadata": {},
   "outputs": [],
   "source": [
    "coll = session.collections.get(iHome)\n",
    "coll.subcollections"
   ]
  },
  {
   "cell_type": "code",
   "execution_count": null,
   "metadata": {},
   "outputs": [],
   "source": [
    "[vars(c) for c in coll.subcollections] "
   ]
  },
  {
   "cell_type": "markdown",
   "metadata": {},
   "source": [
    "**Exercise** Create a collection, add some data to the collection and add some metadata to the collection (analogously to data object metadata).\n"
   ]
  },
  {
   "cell_type": "code",
   "execution_count": null,
   "metadata": {},
   "outputs": [],
   "source": []
  },
  {
   "cell_type": "markdown",
   "metadata": {},
   "source": [
    "\n",
    "## Upload collection\n",
    "To upload a collection from the unix file system one has to iterate over the directory and create collections and data objects.\n",
    "We will upload the directory 'aliceInWonderland'"
   ]
  },
  {
   "cell_type": "code",
   "execution_count": null,
   "metadata": {},
   "outputs": [],
   "source": [
    "import os\n",
    "dPath = os.environ['HOME'] + '/aliceInWonderland'\n",
    "walk = [dPath]\n",
    "while len(walk) > 0:\n",
    "    for srcDir, dirs, files in os.walk(walk.pop()):\n",
    "        print srcDir, dirs, files\n",
    "        walk.extend(dirs)\n",
    "        iPath = iHome + srcDir.split(os.environ['HOME'])[1]\n",
    "        print(\"CREATE\", iPath)\n",
    "        newColl = session.collections.create(iPath)\n",
    "        for fname in files:\n",
    "            print(\"CREATE\", newColl.path+'/'+fname)\n",
    "            session.data_objects.put(srcDir+'/'+fname, newColl.path+'/'+fname)"
   ]
  },
  {
   "cell_type": "markdown",
   "metadata": {},
   "source": [
    "There is mixed tab and whitespace in the code. When copy&paste the code, it is not working,\n",
    "The standard recommends 4 spaces.\n",
    "https://www.python.org/dev/peps/pep-0008/#tabs-or-spaces"
   ]
  },
  {
   "cell_type": "markdown",
   "metadata": {},
   "source": [
    "\n",
    "## Iterate over collection\n",
    "Similar to we walked over a directory with sub directories and files in the unix file system we can walk over collections and subcollections in iRODS. Here we walk over the whole aliceInWonderland collection and list Collections and Data objects:"
   ]
  },
  {
   "cell_type": "code",
   "execution_count": null,
   "metadata": {},
   "outputs": [],
   "source": [
    "for srcColl, colls, objs in coll.walk():\n",
    "    print('C-', srcColl.path)\n",
    "    for o in objs:\n",
    "        print o.name"
   ]
  },
  {
   "cell_type": "markdown",
   "metadata": {},
   "source": [
    "## Sharing data\n",
    "iRODS lets you specify read, write, own or null rights to data objects or collections to existing users or groups. You can set ACLs on data objects and collections in iRODS. \n",
    "To check the default ACLs do:"
   ]
  },
  {
   "cell_type": "code",
   "execution_count": null,
   "metadata": {},
   "outputs": [],
   "source": [
    "print session.permissions.get(coll)\n",
    "print session.permissions.get(obj)"
   ]
  },
  {
   "cell_type": "code",
   "execution_count": null,
   "metadata": {},
   "outputs": [],
   "source": [
    "[vars(p) for p in session.permissions.get(coll)]"
   ]
  },
  {
   "cell_type": "markdown",
   "metadata": {},
   "source": [
    "Here we share a collection with the iRODS group public. Every member of the group will have read rights."
   ]
  },
  {
   "cell_type": "code",
   "execution_count": null,
   "metadata": {},
   "outputs": [],
   "source": [
    "from irods.access import iRODSAccess\n",
    "acl = iRODSAccess('read', coll.path, 'public', session.zone)\n",
    "session.permissions.set(acl)\n",
    "print(session.permissions.get(coll))"
   ]
  },
  {
   "cell_type": "markdown",
   "metadata": {},
   "source": [
    "To withdraw certain ACLs do:"
   ]
  },
  {
   "cell_type": "code",
   "execution_count": null,
   "metadata": {},
   "outputs": [],
   "source": [
    "acl = iRODSAccess('null', coll.path, 'public', session.zone)\n",
    "session.permissions.set(acl)\n",
    "print(session.permissions.get(coll))"
   ]
  },
  {
   "cell_type": "markdown",
   "metadata": {},
   "source": [
    "One can also give 'write' access or set the 'own'ership.\n",
    "\n",
    "Collections have a special ACL, the 'inherit' ACL. If 'inherit' is set, all subcollections and data objects will inherit their ACLs from their parent collection automatically.\n",
    "\n"
   ]
  },
  {
   "cell_type": "markdown",
   "metadata": {},
   "source": [
    "## Searching for data in iRODS\n",
    "We will now try to find all data in this iRODS instance we have access to and which carries the key *author* with value *Lewis Carroll*. And we need to assemble the iRODS logical path.\n",
    "\n",
    "For querying data, we need to import another few modules from the iRODS python API"
   ]
  },
  {
   "cell_type": "code",
   "execution_count": null,
   "metadata": {},
   "outputs": [],
   "source": [
    "from irods.models import Collection, DataObject, CollectionMeta, DataObjectMeta"
   ]
  },
  {
   "cell_type": "markdown",
   "metadata": {},
   "source": [
    "We need the collection name and data object name of the data objects. This command will give us all data objects we have access to without any other filter:"
   ]
  },
  {
   "cell_type": "code",
   "execution_count": null,
   "metadata": {},
   "outputs": [],
   "source": [
    "query = session.query(Collection.name, DataObject.name)"
   ]
  },
  {
   "cell_type": "markdown",
   "metadata": {},
   "source": [
    "Now we can filter the results for data objects which carry a user-defined metadata item with name 'author' and value 'Lewis Carroll'. To this end we have to chain two filters:"
   ]
  },
  {
   "cell_type": "code",
   "execution_count": null,
   "metadata": {},
   "outputs": [],
   "source": [
    "filteredQuery = query.filter(DataObjectMeta.name == 'author').\\\n",
    "    filter(DataObjectMeta.value == 'Lewis Carroll')\n",
    "print(filteredQuery.all())"
   ]
  },
  {
   "cell_type": "markdown",
   "metadata": {},
   "source": [
    "Python prints the results neatly on the prompt, however to extract the information and parsing it to other functions is pretty complicated. Every entry you see in the output is not a string, but actually a python object with many functions. That gives you the advantage to link the output to the rows and comlumns in the sql database running in the background of iRODS. For normal user interaction, however, it needs some explanation and help."
   ]
  },
  {
   "cell_type": "markdown",
   "metadata": {},
   "source": [
    "## Parsing the iquest output\n",
    "To work with the results of the query, we need to get them in an iterable format:\n"
   ]
  },
  {
   "cell_type": "code",
   "execution_count": null,
   "metadata": {},
   "outputs": [],
   "source": [
    "results = filteredQuery.get_results()"
   ]
  },
  {
   "cell_type": "markdown",
   "metadata": {},
   "source": [
    "**Watch out**: *results* is a generator which you can only use once to iterate over.\n",
    "\n",
    "We can now iterate over the results and build our iRODS paths (*COLL_NAME/DATA_NAME*) of the data files:\n"
   ]
  },
  {
   "cell_type": "code",
   "execution_count": null,
   "metadata": {},
   "outputs": [],
   "source": [
    "iPaths = []\n",
    "\n",
    "for item in results:\n",
    "    for k in item.keys():\n",
    "        if k.icat_key == 'DATA_NAME':\n",
    "            name = item[k]\n",
    "        elif k.icat_key == 'COLL_NAME':\n",
    "            coll = item[k]\n",
    "        else:\n",
    "            continue\n",
    "    iPaths.append(coll+'/'+name)\n",
    "print('\\n'.join(iPaths))"
   ]
  },
  {
   "cell_type": "markdown",
   "metadata": {},
   "source": [
    "How did we know which keys to use? \n",
    "We asked in the query for *Collection.name* and *DataObject.name*.\n",
    "Have look at these two objects:"
   ]
  },
  {
   "cell_type": "code",
   "execution_count": null,
   "metadata": {},
   "outputs": [],
   "source": [
    "print(Collection.name.icat_key)\n",
    "print(DataObject.name.icat_key)"
   ]
  },
  {
   "cell_type": "markdown",
   "metadata": {},
   "source": [
    "The *icat_key* is the keyword used in the database behind iRODS to store the information.\n",
    "\n",
    "**Exercise** What is the database key for a data object's checksum and its size? \n",
    "\n",
    "**Exercise** How would you retrieve files labeled with the 'author' 'Lewis Carroll' list their checksum and determine their size?\n",
    "\n"
   ]
  },
  {
   "cell_type": "code",
   "execution_count": null,
   "metadata": {},
   "outputs": [],
   "source": []
  },
  {
   "cell_type": "markdown",
   "metadata": {},
   "source": [
    "\n",
    "**Solution**\n",
    "The class *DataObject* carries an attribute *checksum*"
   ]
  },
  {
   "cell_type": "code",
   "execution_count": null,
   "metadata": {},
   "outputs": [],
   "source": [
    "DataObject.checksum"
   ]
  },
  {
   "cell_type": "markdown",
   "metadata": {},
   "source": [
    "which we can use in the query:"
   ]
  },
  {
   "cell_type": "code",
   "execution_count": null,
   "metadata": {},
   "outputs": [],
   "source": [
    "query = session.query(Collection.name, \n",
    "    DataObject.name, \n",
    "    DataObject.checksum, \n",
    "    DataObject.size, \n",
    "    DataObjectMeta.value)\n",
    "\t\t\t\t\t  \n",
    "filteredQuery = query.filter(DataObjectMeta.name == 'author').\\\n",
    "    filter(DataObjectMeta.value == 'Lewis Carroll')\n",
    "print(filteredQuery.all())"
   ]
  },
  {
   "cell_type": "markdown",
   "metadata": {},
   "source": [
    "Metadata that the user creates with *obj.metadata.add* or *coll.metadata.add* are accessible via *DataObjectMeta* or *CollectionMeta* respectively. Other metadata is directly stored as attributes in *Collection* or *DataObject*.\n"
   ]
  },
  {
   "cell_type": "markdown",
   "metadata": {},
   "source": [
    "## Putting it all together\n",
    "\n",
    "1. Search for all data in the iRODS instance by the author Lewis Carroll.\n",
    "2. Create an own collection in your iRODS home collection.\n",
    "3. Copy (`session.data_objects.copy()`) the data objects to the new collection without downloading and uploading them.\n",
    "4. Verify the checksums.\n",
    "5. Open the collection to your neighbour by giving read rights.\n"
   ]
  },
  {
   "cell_type": "code",
   "execution_count": null,
   "metadata": {},
   "outputs": [],
   "source": []
  }
 ],
 "metadata": {
  "kernelspec": {
   "display_name": "Python 3",
   "language": "python",
   "name": "python3"
  },
  "language_info": {
   "codemirror_mode": {
    "name": "ipython",
    "version": 3
   },
   "file_extension": ".py",
   "mimetype": "text/x-python",
   "name": "python",
   "nbconvert_exporter": "python",
   "pygments_lexer": "ipython3",
   "version": "3.6.5"
  }
 },
 "nbformat": 4,
 "nbformat_minor": 2
}
